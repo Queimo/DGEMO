{
 "cells": [
  {
   "cell_type": "code",
   "execution_count": 1,
   "metadata": {},
   "outputs": [],
   "source": [
    "\n",
    "import sys\n",
    "from pathlib import Path\n",
    "project_root = Path.cwd().parent\n",
    "sys.path.append(str(project_root))\n",
    "from visualization.utils import defaultColors\n",
    "from helpers import calculate_var_pos"
   ]
  },
  {
   "cell_type": "code",
   "execution_count": 2,
   "metadata": {},
   "outputs": [],
   "source": [
    "\n",
    "import pandas as pd\n",
    "from pathlib import Path\n",
    "import yaml"
   ]
  },
  {
   "cell_type": "code",
   "execution_count": 6,
   "metadata": {},
   "outputs": [
    {
     "name": "stdout",
     "output_type": "stream",
     "text": [
      "z-score for alpha=0.9: 1.2815515655446004\n"
     ]
    },
    {
     "data": {
      "image/png": "[encoded data removed]",
      "text/plain": [
       "<Figure size 640x480 with 1 Axes>"
      ]
     },
     "metadata": {},
     "output_type": "display_data"
    }
   ],
   "source": [
    "import matplotlib.pyplot as plt\n",
    "import numpy as np\n",
    "from scipy.stats import norm\n",
    "\n",
    "# %config InlineBackend.figure_format='svg'\n",
    "import matplotlib.pyplot as plt\n",
    "\n",
    "plt.rcParams.update({\n",
    "    \"text.usetex\": True,\n",
    "    \"font.family\": \"serif\",\n",
    "    \"font.serif\": [\"Helvetica\"],\n",
    "    # font size\n",
    "    \"font.size\": 16,\n",
    "})\n",
    "\n",
    "colors = defaultColors\n",
    "\n",
    "def visualize_var(mean, std, var, var_measured=None, alpha=0.9):\n",
    "    # Generate points for the normal distribution\n",
    "    x = np.linspace(mean - 3*std, mean + 3*std, 1000)\n",
    "    y = norm.pdf(x, mean, std)\n",
    "\n",
    "    # figsize = (4,4*3)\n",
    "    plt.figure()\n",
    "    # transparent background\n",
    "    plt.gca().set_facecolor('None') \n",
    "    # Plot the normal distribution\n",
    "    plt.plot(x, y, label='Normal Distribution', color=\"black\", linewidth=2)\n",
    "\n",
    "    c1 = colors[0]\n",
    "    c2 = colors[1]\n",
    "    \n",
    "    # Highlight the area under the curve for the VaR\n",
    "    x_fill = x\n",
    "    y_fill = norm.pdf(x_fill, mean, std)\n",
    "    # plt.fill_between(x_fill, 0, y_fill, color=colors[0], alpha=0.7, label=f'{int(alpha*100)}\\% VaR')\n",
    "    plt.fill_between(x_fill, 0, y_fill, color=c1, alpha=0.7, label=f'{int(alpha*100)}\\% VaR')\n",
    "\n",
    "    mean2 = mean + 3\n",
    "    std2 = std * 6\n",
    "    x2 = np.linspace(mean2 - 3*std2, mean2 + 3*std2, 1000) \n",
    "    y2 = norm.pdf(x2, mean2, std2)\n",
    "    \n",
    "    plt.plot(x2, y2, label='Normal Distribution', color=\"black\", linewidth=2)\n",
    "    plt.fill_between(x2, 0, y2, color=c2, alpha=0.7, label=f'{int(alpha*100)}\\% VaR')\n",
    "\n",
    "    # # Draw a line for the mean\n",
    "    # plt.axvline(x=mean, color='green', linestyle='--', label='Mean')\n",
    "    \n",
    "    # # Draw a line for the VaR\n",
    "    # plt.axvline(x=var, color='red', linestyle='--', label='VaR')\n",
    "    \n",
    "    # if var_measured:\n",
    "    #     plt.axvline(x=var_measured, color='purple', linestyle='--', label='VaR Measured')\n",
    "        \n",
    "    plt.ylim(0)\n",
    "    # plt.xlim(mean - 3, mean + 3)\n",
    "    \n",
    "    # completely empty the box\n",
    "    plt.box(False)\n",
    "    \n",
    "    plt.tight_layout()\n",
    "    \n",
    "    # no ticks\n",
    "    plt.xticks([])\n",
    "    plt.yticks([])\n",
    "\n",
    "    # backbround alpha 0\n",
    "    plt.gca().set_facecolor('None')\n",
    "\n",
    "    plt.savefig(f'VaR{mean}_{std}_{mean2}_{std2}_{c1}.png',\n",
    "                format='png', bbox_inches='tight', transparent=True, dpi=300)\n",
    "    \n",
    "\n",
    "# Example usage\n",
    "mean = 0\n",
    "std = np.sqrt(1)\n",
    "alpha = 0.9\n",
    "z = norm.ppf(alpha)\n",
    "print(f'z-score for alpha={alpha}: {z}')\n",
    "var = calculate_var_pos(mean, std_dev=std, alpha=alpha)\n",
    "visualize_var(mean=mean, std=std, var=var, alpha=alpha)\n"
   ]
  },
  {
   "cell_type": "code",
   "execution_count": 4,
   "metadata": {},
   "outputs": [
    {
     "ename": "NameError",
     "evalue": "name 'calculate_var' is not defined",
     "output_type": "error",
     "traceback": [
      "\u001b[1;31m---------------------------------------------------------------------------\u001b[0m",
      "\u001b[1;31mNameError\u001b[0m                                 Traceback (most recent call last)",
      "Cell \u001b[1;32mIn[4], line 17\u001b[0m\n\u001b[0;32m     15\u001b[0m rho_std \u001b[38;5;241m=\u001b[39m np\u001b[38;5;241m.\u001b[39msqrt(rho)\n\u001b[0;32m     16\u001b[0m alpha \u001b[38;5;241m=\u001b[39m \u001b[38;5;241m0.9\u001b[39m\n\u001b[1;32m---> 17\u001b[0m var_calculated \u001b[38;5;241m=\u001b[39m \u001b[43mcalculate_var\u001b[49m(mean, variance\u001b[38;5;241m=\u001b[39mrho, alpha\u001b[38;5;241m=\u001b[39malpha)\n\u001b[0;32m     18\u001b[0m \u001b[38;5;28mprint\u001b[39m(\u001b[38;5;124mf\u001b[39m\u001b[38;5;124m\"\u001b[39m\u001b[38;5;124mx1: \u001b[39m\u001b[38;5;132;01m{\u001b[39;00mx1\u001b[38;5;132;01m}\u001b[39;00m\u001b[38;5;124m, x2: \u001b[39m\u001b[38;5;132;01m{\u001b[39;00mx2\u001b[38;5;132;01m}\u001b[39;00m\u001b[38;5;124m\"\u001b[39m)\n\u001b[0;32m     19\u001b[0m \u001b[38;5;28mprint\u001b[39m(\u001b[38;5;124mf\u001b[39m\u001b[38;5;124m\"\u001b[39m\u001b[38;5;124mmean: \u001b[39m\u001b[38;5;132;01m{\u001b[39;00mmean\u001b[38;5;132;01m}\u001b[39;00m\u001b[38;5;124m, rho_std: \u001b[39m\u001b[38;5;132;01m{\u001b[39;00mrho_std\u001b[38;5;132;01m}\u001b[39;00m\u001b[38;5;124m, mvar: \u001b[39m\u001b[38;5;132;01m{\u001b[39;00mmvar\u001b[38;5;132;01m}\u001b[39;00m\u001b[38;5;124m, var_calculated: \u001b[39m\u001b[38;5;132;01m{\u001b[39;00mvar_calculated\u001b[38;5;132;01m}\u001b[39;00m\u001b[38;5;124m\"\u001b[39m)\n",
      "\u001b[1;31mNameError\u001b[0m: name 'calculate_var' is not defined"
     ]
    }
   ],
   "source": [
    "\n",
    "# path = Path(r\"..\\results\\peaks\\default\\mars\\0\")\n",
    "# path = Path(\"../result/peaks/default/mars/0/\")\n",
    "path = Path(\"../result/exp4d/unroll_new/marsdet/0/\")\n",
    "approx_all_df = pd.read_csv(path / \"ApproximationAll.csv\")\n",
    "approx_all_df.columns\n",
    "# 'iterID', 'F_1', 'F_2', 'S_1', 'S_2', 'rho_F_1', 'rho_F_2', 'rho_S_1','rho_S_2', 'mvar_F_1', 'mvar_F_2', 'x1', 'x2'\n",
    "# test case for the function\n",
    "\n",
    "# mean, std, mvar = approx_all_df['F_1'][10] , approx_all_df['rho_F_1'][10], approx_all_df['mvar_F_1'][10]\n",
    "point = 100\n",
    "# argmax_rho1 = approx_all_df['rho_F_1'].argmax()\n",
    "# point = argmax_rho1\n",
    "x1, x2 = approx_all_df['x1'][point], approx_all_df['x2'][point]\n",
    "mean, rho, mvar = approx_all_df['F_1'][point] , approx_all_df['rho_F_1'][point], approx_all_df['mvar_F_1'][point]\n",
    "rho_std = np.sqrt(rho)\n",
    "alpha = 0.9\n",
    "var_calculated = calculate_var(mean, variance=rho, alpha=alpha)\n",
    "print(f\"x1: {x1}, x2: {x2}\")\n",
    "print(f\"mean: {mean}, rho_std: {rho_std}, mvar: {mvar}, var_calculated: {var_calculated}\")\n",
    "visualize_var(mean=mean, std=rho_std, var=var_calculated, var_measured=mvar, alpha=alpha)\n",
    "\n",
    " "
   ]
  }
 ],
 "metadata": {
  "kernelspec": {
   "display_name": "Python 3",
   "language": "python",
   "name": "python3"
  },
  "language_info": {
   "codemirror_mode": {
    "name": "ipython",
    "version": 3
   },
   "file_extension": ".py",
   "mimetype": "text/x-python",
   "name": "python",
   "nbconvert_exporter": "python",
   "pygments_lexer": "ipython3",
   "version": "3.9.18"
  }
 },
 "nbformat": 4,
 "nbformat_minor": 2
}
